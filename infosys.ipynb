{
 "cells": [
  {
   "cell_type": "code",
   "execution_count": 1,
   "metadata": {},
   "outputs": [],
   "source": [
    "import numpy as np\n",
    "import pandas as pd\n",
    "import matplotlib.pyplot as plt\n",
    "import seaborn as sns\n",
    "# from sklearn.preprocessing import MinMaxScaler\n",
    "from sklearn.preprocessing import StandardScaler\n",
    "from sklearn.model_selection import train_test_split\n",
    "from sklearn.ensemble import RandomForestRegressor\n",
    "from sklearn.tree import DecisionTreeRegressor\n",
    "from sklearn.svm import SVR\n",
    "from sklearn.metrics import mean_squared_error\n",
    "import math"
   ]
  },
  {
   "cell_type": "code",
   "execution_count": 2,
   "metadata": {},
   "outputs": [],
   "source": [
    "df = pd.read_csv('stock_infosys.csv')"
   ]
  },
  {
   "cell_type": "code",
   "execution_count": 3,
   "metadata": {},
   "outputs": [
    {
     "data": {
      "text/html": [
       "<div>\n",
       "<style scoped>\n",
       "    .dataframe tbody tr th:only-of-type {\n",
       "        vertical-align: middle;\n",
       "    }\n",
       "\n",
       "    .dataframe tbody tr th {\n",
       "        vertical-align: top;\n",
       "    }\n",
       "\n",
       "    .dataframe thead th {\n",
       "        text-align: right;\n",
       "    }\n",
       "</style>\n",
       "<table border=\"1\" class=\"dataframe\">\n",
       "  <thead>\n",
       "    <tr style=\"text-align: right;\">\n",
       "      <th></th>\n",
       "      <th>Date</th>\n",
       "      <th>Close</th>\n",
       "      <th>Open</th>\n",
       "      <th>High</th>\n",
       "      <th>Low</th>\n",
       "      <th>Vol-Million</th>\n",
       "      <th>Change %</th>\n",
       "    </tr>\n",
       "  </thead>\n",
       "  <tbody>\n",
       "    <tr>\n",
       "      <th>0</th>\n",
       "      <td>Jun 18, 2018</td>\n",
       "      <td>1269.20</td>\n",
       "      <td>1281.80</td>\n",
       "      <td>1291.00</td>\n",
       "      <td>1264.05</td>\n",
       "      <td>2.86</td>\n",
       "      <td>-0.01</td>\n",
       "    </tr>\n",
       "    <tr>\n",
       "      <th>1</th>\n",
       "      <td>Jun 15, 2018</td>\n",
       "      <td>1281.25</td>\n",
       "      <td>1237.00</td>\n",
       "      <td>1291.50</td>\n",
       "      <td>1235.00</td>\n",
       "      <td>9.98</td>\n",
       "      <td>0.03</td>\n",
       "    </tr>\n",
       "    <tr>\n",
       "      <th>2</th>\n",
       "      <td>Jun 14, 2018</td>\n",
       "      <td>1239.70</td>\n",
       "      <td>1253.00</td>\n",
       "      <td>1253.00</td>\n",
       "      <td>1234.10</td>\n",
       "      <td>3.80</td>\n",
       "      <td>-0.02</td>\n",
       "    </tr>\n",
       "    <tr>\n",
       "      <th>3</th>\n",
       "      <td>Jun 13, 2018</td>\n",
       "      <td>1264.80</td>\n",
       "      <td>1256.86</td>\n",
       "      <td>1273.93</td>\n",
       "      <td>1256.86</td>\n",
       "      <td>2.88</td>\n",
       "      <td>0.01</td>\n",
       "    </tr>\n",
       "    <tr>\n",
       "      <th>4</th>\n",
       "      <td>Jun 12, 2018</td>\n",
       "      <td>1248.63</td>\n",
       "      <td>1255.82</td>\n",
       "      <td>1261.28</td>\n",
       "      <td>1240.64</td>\n",
       "      <td>3.92</td>\n",
       "      <td>0.00</td>\n",
       "    </tr>\n",
       "    <tr>\n",
       "      <th>5</th>\n",
       "      <td>Jun 11, 2018</td>\n",
       "      <td>1252.50</td>\n",
       "      <td>1255.62</td>\n",
       "      <td>1260.04</td>\n",
       "      <td>1245.20</td>\n",
       "      <td>2.59</td>\n",
       "      <td>0.00</td>\n",
       "    </tr>\n",
       "    <tr>\n",
       "      <th>6</th>\n",
       "      <td>Jun 08, 2018</td>\n",
       "      <td>1250.17</td>\n",
       "      <td>1238.21</td>\n",
       "      <td>1252.10</td>\n",
       "      <td>1236.28</td>\n",
       "      <td>3.23</td>\n",
       "      <td>0.01</td>\n",
       "    </tr>\n",
       "    <tr>\n",
       "      <th>7</th>\n",
       "      <td>Jun 07, 2018</td>\n",
       "      <td>1242.63</td>\n",
       "      <td>1228.29</td>\n",
       "      <td>1248.13</td>\n",
       "      <td>1228.29</td>\n",
       "      <td>3.34</td>\n",
       "      <td>0.01</td>\n",
       "    </tr>\n",
       "    <tr>\n",
       "      <th>8</th>\n",
       "      <td>Jun 06, 2018</td>\n",
       "      <td>1227.74</td>\n",
       "      <td>1215.59</td>\n",
       "      <td>1231.81</td>\n",
       "      <td>1210.48</td>\n",
       "      <td>2.02</td>\n",
       "      <td>0.01</td>\n",
       "    </tr>\n",
       "    <tr>\n",
       "      <th>9</th>\n",
       "      <td>Jun 05, 2018</td>\n",
       "      <td>1211.27</td>\n",
       "      <td>1232.26</td>\n",
       "      <td>1232.26</td>\n",
       "      <td>1207.45</td>\n",
       "      <td>2.36</td>\n",
       "      <td>-0.02</td>\n",
       "    </tr>\n",
       "  </tbody>\n",
       "</table>\n",
       "</div>"
      ],
      "text/plain": [
       "           Date    Close     Open     High      Low  Vol-Million  Change %\n",
       "0  Jun 18, 2018  1269.20  1281.80  1291.00  1264.05         2.86     -0.01\n",
       "1  Jun 15, 2018  1281.25  1237.00  1291.50  1235.00         9.98      0.03\n",
       "2  Jun 14, 2018  1239.70  1253.00  1253.00  1234.10         3.80     -0.02\n",
       "3  Jun 13, 2018  1264.80  1256.86  1273.93  1256.86         2.88      0.01\n",
       "4  Jun 12, 2018  1248.63  1255.82  1261.28  1240.64         3.92      0.00\n",
       "5  Jun 11, 2018  1252.50  1255.62  1260.04  1245.20         2.59      0.00\n",
       "6  Jun 08, 2018  1250.17  1238.21  1252.10  1236.28         3.23      0.01\n",
       "7  Jun 07, 2018  1242.63  1228.29  1248.13  1228.29         3.34      0.01\n",
       "8  Jun 06, 2018  1227.74  1215.59  1231.81  1210.48         2.02      0.01\n",
       "9  Jun 05, 2018  1211.27  1232.26  1232.26  1207.45         2.36     -0.02"
      ]
     },
     "execution_count": 3,
     "metadata": {},
     "output_type": "execute_result"
    }
   ],
   "source": [
    "df.head(10)"
   ]
  },
  {
   "cell_type": "code",
   "execution_count": 4,
   "metadata": {},
   "outputs": [
    {
     "data": {
      "text/html": [
       "<div>\n",
       "<style scoped>\n",
       "    .dataframe tbody tr th:only-of-type {\n",
       "        vertical-align: middle;\n",
       "    }\n",
       "\n",
       "    .dataframe tbody tr th {\n",
       "        vertical-align: top;\n",
       "    }\n",
       "\n",
       "    .dataframe thead th {\n",
       "        text-align: right;\n",
       "    }\n",
       "</style>\n",
       "<table border=\"1\" class=\"dataframe\">\n",
       "  <thead>\n",
       "    <tr style=\"text-align: right;\">\n",
       "      <th></th>\n",
       "      <th>Close</th>\n",
       "      <th>Open</th>\n",
       "      <th>High</th>\n",
       "      <th>Low</th>\n",
       "      <th>Vol-Million</th>\n",
       "      <th>Change %</th>\n",
       "    </tr>\n",
       "  </thead>\n",
       "  <tbody>\n",
       "    <tr>\n",
       "      <th>count</th>\n",
       "      <td>249.000000</td>\n",
       "      <td>249.000000</td>\n",
       "      <td>249.000000</td>\n",
       "      <td>249.000000</td>\n",
       "      <td>249.000000</td>\n",
       "      <td>249.000000</td>\n",
       "    </tr>\n",
       "    <tr>\n",
       "      <th>mean</th>\n",
       "      <td>1047.640843</td>\n",
       "      <td>1047.032610</td>\n",
       "      <td>1058.415462</td>\n",
       "      <td>1037.086707</td>\n",
       "      <td>5.250602</td>\n",
       "      <td>0.001486</td>\n",
       "    </tr>\n",
       "    <tr>\n",
       "      <th>std</th>\n",
       "      <td>112.593895</td>\n",
       "      <td>110.537468</td>\n",
       "      <td>113.569532</td>\n",
       "      <td>110.114077</td>\n",
       "      <td>6.560495</td>\n",
       "      <td>0.014858</td>\n",
       "    </tr>\n",
       "    <tr>\n",
       "      <th>min</th>\n",
       "      <td>873.400000</td>\n",
       "      <td>880.000000</td>\n",
       "      <td>887.600000</td>\n",
       "      <td>860.000000</td>\n",
       "      <td>0.550000</td>\n",
       "      <td>-0.100000</td>\n",
       "    </tr>\n",
       "    <tr>\n",
       "      <th>25%</th>\n",
       "      <td>946.350000</td>\n",
       "      <td>945.000000</td>\n",
       "      <td>954.850000</td>\n",
       "      <td>938.000000</td>\n",
       "      <td>2.870000</td>\n",
       "      <td>-0.010000</td>\n",
       "    </tr>\n",
       "    <tr>\n",
       "      <th>50%</th>\n",
       "      <td>1013.100000</td>\n",
       "      <td>1011.900000</td>\n",
       "      <td>1021.700000</td>\n",
       "      <td>999.550000</td>\n",
       "      <td>3.800000</td>\n",
       "      <td>0.000000</td>\n",
       "    </tr>\n",
       "    <tr>\n",
       "      <th>75%</th>\n",
       "      <td>1155.650000</td>\n",
       "      <td>1152.000000</td>\n",
       "      <td>1166.600000</td>\n",
       "      <td>1142.650000</td>\n",
       "      <td>5.320000</td>\n",
       "      <td>0.010000</td>\n",
       "    </tr>\n",
       "    <tr>\n",
       "      <th>max</th>\n",
       "      <td>1281.250000</td>\n",
       "      <td>1281.800000</td>\n",
       "      <td>1291.500000</td>\n",
       "      <td>1264.050000</td>\n",
       "      <td>82.200000</td>\n",
       "      <td>0.050000</td>\n",
       "    </tr>\n",
       "  </tbody>\n",
       "</table>\n",
       "</div>"
      ],
      "text/plain": [
       "             Close         Open         High          Low  Vol-Million  \\\n",
       "count   249.000000   249.000000   249.000000   249.000000   249.000000   \n",
       "mean   1047.640843  1047.032610  1058.415462  1037.086707     5.250602   \n",
       "std     112.593895   110.537468   113.569532   110.114077     6.560495   \n",
       "min     873.400000   880.000000   887.600000   860.000000     0.550000   \n",
       "25%     946.350000   945.000000   954.850000   938.000000     2.870000   \n",
       "50%    1013.100000  1011.900000  1021.700000   999.550000     3.800000   \n",
       "75%    1155.650000  1152.000000  1166.600000  1142.650000     5.320000   \n",
       "max    1281.250000  1281.800000  1291.500000  1264.050000    82.200000   \n",
       "\n",
       "         Change %  \n",
       "count  249.000000  \n",
       "mean     0.001486  \n",
       "std      0.014858  \n",
       "min     -0.100000  \n",
       "25%     -0.010000  \n",
       "50%      0.000000  \n",
       "75%      0.010000  \n",
       "max      0.050000  "
      ]
     },
     "execution_count": 4,
     "metadata": {},
     "output_type": "execute_result"
    }
   ],
   "source": [
    "df.describe()"
   ]
  },
  {
   "cell_type": "code",
   "execution_count": 5,
   "metadata": {},
   "outputs": [
    {
     "name": "stdout",
     "output_type": "stream",
     "text": [
      "<class 'pandas.core.frame.DataFrame'>\n",
      "RangeIndex: 249 entries, 0 to 248\n",
      "Data columns (total 7 columns):\n",
      "Date           249 non-null object\n",
      "Close          249 non-null float64\n",
      "Open           249 non-null float64\n",
      "High           249 non-null float64\n",
      "Low            249 non-null float64\n",
      "Vol-Million    249 non-null float64\n",
      "Change %       249 non-null float64\n",
      "dtypes: float64(6), object(1)\n",
      "memory usage: 13.7+ KB\n"
     ]
    }
   ],
   "source": [
    "df.info()"
   ]
  },
  {
   "cell_type": "code",
   "execution_count": 6,
   "metadata": {},
   "outputs": [
    {
     "data": {
      "text/html": [
       "<div>\n",
       "<style scoped>\n",
       "    .dataframe tbody tr th:only-of-type {\n",
       "        vertical-align: middle;\n",
       "    }\n",
       "\n",
       "    .dataframe tbody tr th {\n",
       "        vertical-align: top;\n",
       "    }\n",
       "\n",
       "    .dataframe thead th {\n",
       "        text-align: right;\n",
       "    }\n",
       "</style>\n",
       "<table border=\"1\" class=\"dataframe\">\n",
       "  <thead>\n",
       "    <tr style=\"text-align: right;\">\n",
       "      <th></th>\n",
       "      <th>Close</th>\n",
       "      <th>Open</th>\n",
       "      <th>High</th>\n",
       "      <th>Low</th>\n",
       "      <th>Vol-Million</th>\n",
       "      <th>Change %</th>\n",
       "    </tr>\n",
       "  </thead>\n",
       "  <tbody>\n",
       "    <tr>\n",
       "      <th>Close</th>\n",
       "      <td>1.000000</td>\n",
       "      <td>0.992187</td>\n",
       "      <td>0.996319</td>\n",
       "      <td>0.997347</td>\n",
       "      <td>-0.134286</td>\n",
       "      <td>0.104827</td>\n",
       "    </tr>\n",
       "    <tr>\n",
       "      <th>Open</th>\n",
       "      <td>0.992187</td>\n",
       "      <td>1.000000</td>\n",
       "      <td>0.994571</td>\n",
       "      <td>0.994886</td>\n",
       "      <td>-0.097466</td>\n",
       "      <td>0.000551</td>\n",
       "    </tr>\n",
       "    <tr>\n",
       "      <th>High</th>\n",
       "      <td>0.996319</td>\n",
       "      <td>0.994571</td>\n",
       "      <td>1.000000</td>\n",
       "      <td>0.993452</td>\n",
       "      <td>-0.085470</td>\n",
       "      <td>0.060765</td>\n",
       "    </tr>\n",
       "    <tr>\n",
       "      <th>Low</th>\n",
       "      <td>0.997347</td>\n",
       "      <td>0.994886</td>\n",
       "      <td>0.993452</td>\n",
       "      <td>1.000000</td>\n",
       "      <td>-0.162574</td>\n",
       "      <td>0.071055</td>\n",
       "    </tr>\n",
       "    <tr>\n",
       "      <th>Vol-Million</th>\n",
       "      <td>-0.134286</td>\n",
       "      <td>-0.097466</td>\n",
       "      <td>-0.085470</td>\n",
       "      <td>-0.162574</td>\n",
       "      <td>1.000000</td>\n",
       "      <td>-0.255404</td>\n",
       "    </tr>\n",
       "    <tr>\n",
       "      <th>Change %</th>\n",
       "      <td>0.104827</td>\n",
       "      <td>0.000551</td>\n",
       "      <td>0.060765</td>\n",
       "      <td>0.071055</td>\n",
       "      <td>-0.255404</td>\n",
       "      <td>1.000000</td>\n",
       "    </tr>\n",
       "  </tbody>\n",
       "</table>\n",
       "</div>"
      ],
      "text/plain": [
       "                Close      Open      High       Low  Vol-Million  Change %\n",
       "Close        1.000000  0.992187  0.996319  0.997347    -0.134286  0.104827\n",
       "Open         0.992187  1.000000  0.994571  0.994886    -0.097466  0.000551\n",
       "High         0.996319  0.994571  1.000000  0.993452    -0.085470  0.060765\n",
       "Low          0.997347  0.994886  0.993452  1.000000    -0.162574  0.071055\n",
       "Vol-Million -0.134286 -0.097466 -0.085470 -0.162574     1.000000 -0.255404\n",
       "Change %     0.104827  0.000551  0.060765  0.071055    -0.255404  1.000000"
      ]
     },
     "execution_count": 6,
     "metadata": {},
     "output_type": "execute_result"
    }
   ],
   "source": [
    "df.corr()"
   ]
  },
  {
   "cell_type": "code",
   "execution_count": 7,
   "metadata": {},
   "outputs": [
    {
     "data": {
      "image/png": "[encoded data removed]",
      "text/plain": [
       "<Figure size 1440x1440 with 2 Axes>"
      ]
     },
     "metadata": {
      "needs_background": "light"
     },
     "output_type": "display_data"
    }
   ],
   "source": [
    "plt.figure(figsize = (20,20))\n",
    "sns.heatmap(df.corr())\n",
    "plt.show()"
   ]
  },
  {
   "cell_type": "code",
   "execution_count": 8,
   "metadata": {},
   "outputs": [
    {
     "data": {
      "text/html": [
       "<div>\n",
       "<style scoped>\n",
       "    .dataframe tbody tr th:only-of-type {\n",
       "        vertical-align: middle;\n",
       "    }\n",
       "\n",
       "    .dataframe tbody tr th {\n",
       "        vertical-align: top;\n",
       "    }\n",
       "\n",
       "    .dataframe thead th {\n",
       "        text-align: right;\n",
       "    }\n",
       "</style>\n",
       "<table border=\"1\" class=\"dataframe\">\n",
       "  <thead>\n",
       "    <tr style=\"text-align: right;\">\n",
       "      <th></th>\n",
       "      <th>Date</th>\n",
       "      <th>Close</th>\n",
       "      <th>Open</th>\n",
       "      <th>High</th>\n",
       "      <th>Low</th>\n",
       "      <th>Vol-Million</th>\n",
       "      <th>Change %</th>\n",
       "    </tr>\n",
       "  </thead>\n",
       "  <tbody>\n",
       "    <tr>\n",
       "      <th>0</th>\n",
       "      <td>Jun 18, 2018</td>\n",
       "      <td>1269.20</td>\n",
       "      <td>1281.80</td>\n",
       "      <td>1291.00</td>\n",
       "      <td>1264.05</td>\n",
       "      <td>2.86</td>\n",
       "      <td>-0.01</td>\n",
       "    </tr>\n",
       "    <tr>\n",
       "      <th>1</th>\n",
       "      <td>Jun 15, 2018</td>\n",
       "      <td>1281.25</td>\n",
       "      <td>1237.00</td>\n",
       "      <td>1291.50</td>\n",
       "      <td>1235.00</td>\n",
       "      <td>9.98</td>\n",
       "      <td>0.03</td>\n",
       "    </tr>\n",
       "    <tr>\n",
       "      <th>2</th>\n",
       "      <td>Jun 14, 2018</td>\n",
       "      <td>1239.70</td>\n",
       "      <td>1253.00</td>\n",
       "      <td>1253.00</td>\n",
       "      <td>1234.10</td>\n",
       "      <td>3.80</td>\n",
       "      <td>-0.02</td>\n",
       "    </tr>\n",
       "    <tr>\n",
       "      <th>3</th>\n",
       "      <td>Jun 13, 2018</td>\n",
       "      <td>1264.80</td>\n",
       "      <td>1256.86</td>\n",
       "      <td>1273.93</td>\n",
       "      <td>1256.86</td>\n",
       "      <td>2.88</td>\n",
       "      <td>0.01</td>\n",
       "    </tr>\n",
       "    <tr>\n",
       "      <th>4</th>\n",
       "      <td>Jun 12, 2018</td>\n",
       "      <td>1248.63</td>\n",
       "      <td>1255.82</td>\n",
       "      <td>1261.28</td>\n",
       "      <td>1240.64</td>\n",
       "      <td>3.92</td>\n",
       "      <td>0.00</td>\n",
       "    </tr>\n",
       "  </tbody>\n",
       "</table>\n",
       "</div>"
      ],
      "text/plain": [
       "           Date    Close     Open     High      Low  Vol-Million  Change %\n",
       "0  Jun 18, 2018  1269.20  1281.80  1291.00  1264.05         2.86     -0.01\n",
       "1  Jun 15, 2018  1281.25  1237.00  1291.50  1235.00         9.98      0.03\n",
       "2  Jun 14, 2018  1239.70  1253.00  1253.00  1234.10         3.80     -0.02\n",
       "3  Jun 13, 2018  1264.80  1256.86  1273.93  1256.86         2.88      0.01\n",
       "4  Jun 12, 2018  1248.63  1255.82  1261.28  1240.64         3.92      0.00"
      ]
     },
     "execution_count": 8,
     "metadata": {},
     "output_type": "execute_result"
    }
   ],
   "source": [
    "df.head()"
   ]
  },
  {
   "cell_type": "code",
   "execution_count": 9,
   "metadata": {},
   "outputs": [
    {
     "data": {
      "text/plain": [
       "(249, 5)"
      ]
     },
     "execution_count": 9,
     "metadata": {},
     "output_type": "execute_result"
    }
   ],
   "source": [
    "X = df.iloc[:,2:7].values\n",
    "X.shape"
   ]
  },
  {
   "cell_type": "code",
   "execution_count": 10,
   "metadata": {},
   "outputs": [
    {
     "data": {
      "text/plain": [
       "(249,)"
      ]
     },
     "execution_count": 10,
     "metadata": {},
     "output_type": "execute_result"
    }
   ],
   "source": [
    "y = df['Close'].values\n",
    "y.shape"
   ]
  },
  {
   "cell_type": "code",
   "execution_count": 11,
   "metadata": {},
   "outputs": [],
   "source": [
    "# scaler = MinMaxScaler()\n",
    "scaler = StandardScaler()\n",
    "X = scaler.fit_transform(X)"
   ]
  },
  {
   "cell_type": "code",
   "execution_count": 12,
   "metadata": {},
   "outputs": [],
   "source": [
    "X_train,X_test,y_train,y_test = train_test_split(X,y,test_size = 0.2)"
   ]
  },
  {
   "cell_type": "markdown",
   "metadata": {},
   "source": [
    "# STANDARD VECTOR REGRESSOR"
   ]
  },
  {
   "cell_type": "code",
   "execution_count": 13,
   "metadata": {},
   "outputs": [
    {
     "data": {
      "text/plain": [
       "array([ 991.28900197, 1185.8950563 ,  912.53394548,  937.98765484,\n",
       "        940.92269519, 1168.81999036,  963.07838573, 1030.89493221,\n",
       "       1141.91815018,  904.64705154, 1192.45714411, 1146.33802081,\n",
       "        947.44970394,  895.29274582, 1140.84252817,  974.46372352,\n",
       "        919.58522455,  931.09188869,  901.85694542, 1034.35566084,\n",
       "       1020.74904837,  897.949179  , 1188.75130044, 1174.76141663,\n",
       "       1079.74403347,  931.08148026,  929.21690546,  928.80998268,\n",
       "        976.94396229, 1159.01912689,  991.12441829,  980.51313002,\n",
       "       1040.63030541, 1011.69501517,  984.84566896,  888.30358616,\n",
       "       1183.16220757, 1186.56431012,  952.97989316, 1164.44172496,\n",
       "       1126.26192706, 1150.13713564,  979.44684741, 1157.51562437,\n",
       "       1137.38432957, 1183.01555507,  915.11869394,  897.41780921,\n",
       "        968.50294641,  943.71875819])"
      ]
     },
     "execution_count": 13,
     "metadata": {},
     "output_type": "execute_result"
    }
   ],
   "source": [
    "sr = SVR(kernel = 'linear')\n",
    "sr.fit(X_train,y_train)\n",
    "y_pred = sr.predict(X_test)\n",
    "y_pred"
   ]
  },
  {
   "cell_type": "code",
   "execution_count": 14,
   "metadata": {},
   "outputs": [
    {
     "data": {
      "text/plain": [
       "array([ 993.85, 1183.  ,  909.55,  939.5 ,  935.45, 1170.65,  958.8 ,\n",
       "       1035.6 , 1143.25,  905.9 , 1197.05, 1152.7 ,  951.8 ,  892.8 ,\n",
       "       1138.6 ,  979.85,  920.15,  927.45,  900.2 , 1020.85, 1021.3 ,\n",
       "        896.  , 1189.95, 1177.1 , 1078.45,  935.3 ,  930.5 ,  926.95,\n",
       "        976.1 , 1160.75,  990.55,  957.05, 1042.05, 1015.4 ,  984.05,\n",
       "        884.3 , 1187.7 , 1182.55,  951.9 , 1164.55, 1127.  , 1147.4 ,\n",
       "        981.45, 1155.65, 1134.25, 1183.8 ,  921.85,  895.75,  970.95,\n",
       "        943.25])"
      ]
     },
     "execution_count": 14,
     "metadata": {},
     "output_type": "execute_result"
    }
   ],
   "source": [
    "y_test"
   ]
  },
  {
   "cell_type": "code",
   "execution_count": 15,
   "metadata": {},
   "outputs": [
    {
     "data": {
      "text/plain": [
       "4.823681326820508"
      ]
     },
     "execution_count": 15,
     "metadata": {},
     "output_type": "execute_result"
    }
   ],
   "source": [
    "math.sqrt(mean_squared_error(y_test,y_pred))"
   ]
  },
  {
   "cell_type": "markdown",
   "metadata": {},
   "source": [
    "# importing pickle for dumping model"
   ]
  },
  {
   "cell_type": "code",
   "execution_count": 16,
   "metadata": {},
   "outputs": [],
   "source": [
    "import pickle\n",
    "pickle.dump(sr,open('model.pkl','wb'))"
   ]
  },
  {
   "cell_type": "markdown",
   "metadata": {},
   "source": [
    "# descision tree regressor"
   ]
  },
  {
   "cell_type": "code",
   "execution_count": 17,
   "metadata": {},
   "outputs": [],
   "source": [
    "dreg = DecisionTreeRegressor(criterion = 'mse')\n",
    "dreg.fit(X_train,y_train)\n",
    "y_pred = dreg.predict(X_test)"
   ]
  },
  {
   "cell_type": "code",
   "execution_count": 18,
   "metadata": {},
   "outputs": [
    {
     "data": {
      "text/plain": [
       "7.691469300465275"
      ]
     },
     "execution_count": 18,
     "metadata": {},
     "output_type": "execute_result"
    }
   ],
   "source": [
    "math.sqrt(mean_squared_error(y_pred,y_test))"
   ]
  },
  {
   "cell_type": "markdown",
   "metadata": {},
   "source": [
    "# random forest regressor"
   ]
  },
  {
   "cell_type": "code",
   "execution_count": 19,
   "metadata": {},
   "outputs": [],
   "source": [
    "rfr = RandomForestRegressor(n_estimators = 100, criterion = 'mse')\n",
    "rfr.fit(X_train,y_train)\n",
    "y_pred = rfr.predict(X_test)"
   ]
  },
  {
   "cell_type": "code",
   "execution_count": 20,
   "metadata": {},
   "outputs": [
    {
     "data": {
      "text/plain": [
       "5.58534986028634"
      ]
     },
     "execution_count": 20,
     "metadata": {},
     "output_type": "execute_result"
    }
   ],
   "source": [
    "math.sqrt(mean_squared_error(y_pred,y_test))"
   ]
  }
 ],
 "metadata": {
  "kernelspec": {
   "display_name": "Python 3",
   "language": "python",
   "name": "python3"
  },
  "language_info": {
   "codemirror_mode": {
    "name": "ipython",
    "version": 3
   },
   "file_extension": ".py",
   "mimetype": "text/x-python",
   "name": "python",
   "nbconvert_exporter": "python",
   "pygments_lexer": "ipython3",
   "version": "3.7.5"
  }
 },
 "nbformat": 4,
 "nbformat_minor": 4
}
